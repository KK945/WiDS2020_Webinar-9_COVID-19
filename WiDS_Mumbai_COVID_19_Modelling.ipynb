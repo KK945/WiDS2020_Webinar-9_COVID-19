{
  "nbformat": 4,
  "nbformat_minor": 0,
  "metadata": {
    "colab": {
      "name": "WiDS_Mumbai_COVID-19_Modelling.ipynb",
      "provenance": []
    },
    "kernelspec": {
      "name": "python3",
      "display_name": "Python 3"
    }
  },
  "cells": [
    {
      "cell_type": "markdown",
      "metadata": {
        "id": "IN7nu7SC3uIe",
        "colab_type": "text"
      },
      "source": [
        "#Topic: COVID-19 DATA MODELLING "
      ]
    },
    {
      "cell_type": "markdown",
      "metadata": {
        "id": "KuAfR5ZM41Y2",
        "colab_type": "text"
      },
      "source": [
        "Installing and importing the necessary libraries. "
      ]
    },
    {
      "cell_type": "code",
      "metadata": {
        "id": "5ZVydWQ61Z34",
        "colab_type": "code",
        "colab": {}
      },
      "source": [
        "!pip install optuna"
      ],
      "execution_count": null,
      "outputs": []
    },
    {
      "cell_type": "code",
      "metadata": {
        "id": "YEgoEWR45ZBc",
        "colab_type": "code",
        "colab": {}
      },
      "source": [
        "!pip install wget"
      ],
      "execution_count": null,
      "outputs": []
    },
    {
      "cell_type": "code",
      "metadata": {
        "id": "j7jvPfW75gFY",
        "colab_type": "code",
        "colab": {}
      },
      "source": [
        "from datetime import datetime\n",
        "time_format = \"%d%b%Y %H:%M\"\n",
        "from datetime import timedelta\n",
        "from dateutil.relativedelta import relativedelta\n",
        "import os\n",
        "from pprint import pprint\n",
        "import warnings\n",
        "from fbprophet import Prophet\n",
        "from fbprophet.plot import add_changepoints_to_plot\n",
        "import matplotlib.pyplot as plt\n",
        "import matplotlib.cm as cm\n",
        "import matplotlib\n",
        "from matplotlib.ticker import ScalarFormatter\n",
        "%matplotlib inline\n",
        "from scipy.integrate import odeint\n",
        "import numpy as np\n",
        "import optuna\n",
        "optuna.logging.disable_default_handler()\n",
        "import pandas as pd\n",
        "pd.plotting.register_matplotlib_converters()\n",
        "import seaborn as sns\n",
        "from scipy.integrate import solve_ivp\n",
        "import requests\n",
        "import json\n",
        "import pandas as pd\n",
        "from pandas.io.json import json_normalize\n",
        "import wget"
      ],
      "execution_count": null,
      "outputs": []
    },
    {
      "cell_type": "markdown",
      "metadata": {
        "id": "7lsiae-8fU0f",
        "colab_type": "text"
      },
      "source": [
        "##Infectious Disease Modelling \n",
        "\n",
        "\n",
        "\n",
        "*   Spreads from one person to other in a population\n",
        "*   In order to understand the spread, use compartmental model\n",
        "    - Suscpetible\n",
        "    - Infected\n",
        "    - Recovered\n",
        "\n",
        "N: total population\n",
        "\n",
        "S(t): number of people susceptible on day t   \n",
        "\n",
        "I(t): number of people infected on day t\n",
        "\n",
        "R(t): number of people recovered on day t\n",
        "\n",
        "β: expected amount of people an infected person infects per day\n",
        "\n",
        "e.g. Probability that an infected person infects a susceptible person = 25%\n",
        "     and per day an infected person meets 4 susceptible then on a single day this infected person infects 1 (25% * 4)\n",
        "\n",
        "D: number of days an infected person has and can spread the disease\n",
        "\n",
        "γ: the proportion of infected recovering per day (γ = 1/D)\n",
        "\n",
        "(1 person ---> has the disease for D days/ recovers after D days \n",
        "therefore,\n",
        "in one day how many people recover? With cross multiplication we get it as 1/D)\n",
        "\n",
        "R₀: the total number of people an infected person infects (R₀ = β / γ)\n",
        "  \n",
        "\n",
        "![alt text](https://drive.google.com/uc?export=view&id=1evqjPkS0N3uIOCHOmOdbe5BJvCxRmZxy)\n",
        "\n",
        "![alt text](https://drive.google.com/uc?export=view&id=1zgWMGsIhJXdlwI0kHefSOfC20ICBGDwz)\n",
        "\n",
        "\n",
        "*   Adding two more compartments:\n",
        "    - Exposed\n",
        "    - Death\n",
        "\n",
        "\n",
        "\n",
        "\n",
        "E(t): number of people exposed on day t\n",
        "\n",
        "D(t): number of people dead on day t\n",
        "\n",
        "δ: length of incubation period\n",
        "\n",
        "α: fatality rate\n",
        "\n",
        "ρ: rate at which people die (= 1/days from infected until death)\n",
        "\n",
        "![alt text](https://drive.google.com/uc?export=view&id=1CS85a4TXN73_DchOnmL4mYPF3mU6qvts)\n",
        "\n",
        "![alt text](https://drive.google.com/uc?export=view&id=1kPac9Fhr1UwOSvX9ts3wyUnNNNBd3N9n)\n",
        "\n",
        "\n",
        "\n",
        "\n",
        "\n",
        "\n"
      ]
    },
    {
      "cell_type": "code",
      "metadata": {
        "id": "a_ruGngGTPrq",
        "colab_type": "code",
        "colab": {}
      },
      "source": [
        "def plotseird(t, S, E, I, R, D=None):\n",
        "  f, ax = plt.subplots(1,1,figsize=(10,4))\n",
        "  ax.plot(t, S, 'b', alpha=0.7, linewidth=2, label='Susceptible')\n",
        "  ax.plot(t, E, 'y', alpha=0.7, linewidth=2, label='Exposed')\n",
        "  ax.plot(t, I, 'r', alpha=0.7, linewidth=2, label='Infected')\n",
        "  ax.plot(t, R, 'g', alpha=0.7, linewidth=2, label='Recovered')\n",
        "  if D is not None:\n",
        "    ax.plot(t, D, 'k', alpha=0.7, linewidth=2, label='Dead')\n",
        "    ax.plot(t, S+E+I+R+D, 'c--', alpha=0.7, linewidth=2, label='Total')\n",
        "  else:\n",
        "    ax.plot(t, S+E+I+R, 'c--', alpha=0.7, linewidth=2, label='Total')\n",
        "\n",
        "  ax.set_xlabel('Time (days)')\n",
        "\n",
        "  ax.yaxis.set_tick_params(length=0)\n",
        "  ax.xaxis.set_tick_params(length=0)\n",
        "  ax.grid(b=True, which='major', c='w', lw=2, ls='-')\n",
        "  legend = ax.legend(borderpad=2.0)\n",
        "  legend.get_frame().set_alpha(0.5)\n",
        "  for spine in ('top', 'right', 'bottom', 'left'):\n",
        "      ax.spines[spine].set_visible(False)\n",
        "  plt.show();"
      ],
      "execution_count": null,
      "outputs": []
    },
    {
      "cell_type": "code",
      "metadata": {
        "id": "d2i3uYY7fT31",
        "colab_type": "code",
        "colab": {}
      },
      "source": [
        "def deriv(y, t, N, beta, gamma, delta, alpha, rho):\n",
        "    S, E, I, R, D = y\n",
        "    dSdt = -beta * S * I / N\n",
        "    dEdt = beta * S * I / N - delta * E\n",
        "    dIdt = delta * E - (1 - alpha) * gamma * I - alpha * rho * I\n",
        "    dRdt = (1 - alpha) * gamma * I\n",
        "    dDdt = alpha * rho * I\n",
        "    return dSdt, dEdt, dIdt, dRdt, dDdt"
      ],
      "execution_count": null,
      "outputs": []
    },
    {
      "cell_type": "code",
      "metadata": {
        "id": "a3caIu6mTJAw",
        "colab_type": "code",
        "colab": {}
      },
      "source": [
        "N = 1000000\n",
        "D = 4.0 # infections lasts four days\n",
        "gamma = 1.0 / D\n",
        "delta = 1.0 / 5.0  # incubation period of five days\n",
        "R_0 = 5.0\n",
        "beta = R_0 * gamma  # R_0 = beta / gamma, so beta = R_0 * gamma\n",
        "alpha = 0.2  # 20% death rate\n",
        "rho = 1/9  # 9 days from infection until death\n",
        "S0, E0, I0, R0, D0 = N-1, 1, 0, 0, 0  # initial conditions: one exposed"
      ],
      "execution_count": null,
      "outputs": []
    },
    {
      "cell_type": "code",
      "metadata": {
        "id": "5WQ3qT_0TKpn",
        "colab_type": "code",
        "colab": {}
      },
      "source": [
        "t = np.linspace(0, 99, 100) # Grid of time points (in days)\n",
        "y0 = S0, E0, I0, R0, D0 # Initial conditions vector\n",
        "\n",
        "# Integrate the SIR equations over the time grid, t.\n",
        "ret = odeint(deriv, y0, t, args=(N, beta, gamma, delta, alpha, rho))\n",
        "S, E, I, R, D = ret.T"
      ],
      "execution_count": null,
      "outputs": []
    },
    {
      "cell_type": "code",
      "metadata": {
        "id": "ciyTqe6ETZY4",
        "colab_type": "code",
        "colab": {
          "base_uri": "https://localhost:8080/",
          "height": 287
        },
        "outputId": "e530ecb3-507a-4fbd-9404-1e752e0aecac"
      },
      "source": [
        "plotseird(t, S, E, I, R, D)"
      ],
      "execution_count": null,
      "outputs": [
        {
          "output_type": "display_data",
          "data": {
            "image/png": "[encoded data removed]",
            "text/plain": [
              "<Figure size 720x288 with 1 Axes>"
            ]
          },
          "metadata": {
            "tags": [],
            "needs_background": "light"
          }
        }
      ]
    },
    {
      "cell_type": "markdown",
      "metadata": {
        "id": "XPPwzCWp6IGO",
        "colab_type": "text"
      },
      "source": [
        "Now, let us do for India data. \n",
        "\n",
        "Loading data from Kaggle using API. \n",
        "Data source: https://www.kaggle.com/sudalairajkumar/novel-corona-virus-2019-dataset"
      ]
    },
    {
      "cell_type": "code",
      "metadata": {
        "id": "KzkpTMbz5v3T",
        "colab_type": "code",
        "colab": {}
      },
      "source": [
        "!mkdir /root/.kaggle"
      ],
      "execution_count": null,
      "outputs": []
    },
    {
      "cell_type": "code",
      "metadata": {
        "id": "TOyXHdHV6fV6",
        "colab_type": "code",
        "colab": {}
      },
      "source": [
        "import json\n",
        "token = {\"username\":\"karthikakamath\",\"key\":\"---\"}\n",
        "with open('/root/.kaggle/kaggle.json', 'w') as file:\n",
        "    json.dump(token, file)"
      ],
      "execution_count": null,
      "outputs": []
    },
    {
      "cell_type": "code",
      "metadata": {
        "id": "SOSfcUoK6mVL",
        "colab_type": "code",
        "colab": {
          "base_uri": "https://localhost:8080/",
          "height": 35
        },
        "outputId": "1b62f75a-c763-4e91-f155-5f186afc4da7"
      },
      "source": [
        "!cp /root/.kaggle/kaggle.json ~/.kaggle/kaggle.json"
      ],
      "execution_count": null,
      "outputs": [
        {
          "output_type": "stream",
          "text": [
            "cp: '/root/.kaggle/kaggle.json' and '/root/.kaggle/kaggle.json' are the same file\n"
          ],
          "name": "stdout"
        }
      ]
    },
    {
      "cell_type": "code",
      "metadata": {
        "id": "0WFmRfxi6qb6",
        "colab_type": "code",
        "colab": {
          "base_uri": "https://localhost:8080/",
          "height": 52
        },
        "outputId": "217c8695-ce61-4ccf-b8c9-eb8578f7ed62"
      },
      "source": [
        "!kaggle config set -n path -v{/content}"
      ],
      "execution_count": null,
      "outputs": [
        {
          "output_type": "stream",
          "text": [
            "Warning: Your Kaggle API key is readable by other users on this system! To fix this, you can run 'chmod 600 /root/.kaggle/kaggle.json'\n",
            "- path is now set to: {/content}\n"
          ],
          "name": "stdout"
        }
      ]
    },
    {
      "cell_type": "code",
      "metadata": {
        "id": "so-oDrM_6xGU",
        "colab_type": "code",
        "colab": {}
      },
      "source": [
        "!chmod 600 /root/.kaggle/kaggle.json"
      ],
      "execution_count": null,
      "outputs": []
    },
    {
      "cell_type": "code",
      "metadata": {
        "id": "AefITZni62xE",
        "colab_type": "code",
        "colab": {
          "base_uri": "https://localhost:8080/",
          "height": 69
        },
        "outputId": "9c03452e-4a39-48a8-b946-7117582e5d50"
      },
      "source": [
        "!kaggle datasets download -d sudalairajkumar/novel-corona-virus-2019-dataset -p /content"
      ],
      "execution_count": null,
      "outputs": [
        {
          "output_type": "stream",
          "text": [
            "Downloading novel-corona-virus-2019-dataset.zip to /content\n",
            "\r  0% 0.00/1.65M [00:00<?, ?B/s]\n",
            "\r100% 1.65M/1.65M [00:00<00:00, 53.9MB/s]\n"
          ],
          "name": "stdout"
        }
      ]
    },
    {
      "cell_type": "code",
      "metadata": {
        "id": "rp7vDaYn66tc",
        "colab_type": "code",
        "colab": {
          "base_uri": "https://localhost:8080/",
          "height": 173
        },
        "outputId": "f01a066c-81d8-41c7-b51c-04ab0906ffe2"
      },
      "source": [
        "!unzip \\*.zip"
      ],
      "execution_count": null,
      "outputs": [
        {
          "output_type": "stream",
          "text": [
            "Archive:  novel-corona-virus-2019-dataset.zip\n",
            "  inflating: COVID19_line_list_data.csv  \n",
            "  inflating: COVID19_open_line_list.csv  \n",
            "  inflating: covid_19_data.csv       \n",
            "  inflating: time_series_covid_19_confirmed.csv  \n",
            "  inflating: time_series_covid_19_confirmed_US.csv  \n",
            "  inflating: time_series_covid_19_deaths.csv  \n",
            "  inflating: time_series_covid_19_deaths_US.csv  \n",
            "  inflating: time_series_covid_19_recovered.csv  \n"
          ],
          "name": "stdout"
        }
      ]
    },
    {
      "cell_type": "code",
      "metadata": {
        "id": "uhphBH3c6-ZH",
        "colab_type": "code",
        "colab": {
          "base_uri": "https://localhost:8080/",
          "height": 202
        },
        "outputId": "87cc58fb-f35e-4aaf-999d-7914a26649d4"
      },
      "source": [
        "raw = pd.read_csv(\"covid_19_data.csv\")\n",
        "raw.tail()"
      ],
      "execution_count": null,
      "outputs": [
        {
          "output_type": "execute_result",
          "data": {
            "text/html": [
              "<div>\n",
              "<style scoped>\n",
              "    .dataframe tbody tr th:only-of-type {\n",
              "        vertical-align: middle;\n",
              "    }\n",
              "\n",
              "    .dataframe tbody tr th {\n",
              "        vertical-align: top;\n",
              "    }\n",
              "\n",
              "    .dataframe thead th {\n",
              "        text-align: right;\n",
              "    }\n",
              "</style>\n",
              "<table border=\"1\" class=\"dataframe\">\n",
              "  <thead>\n",
              "    <tr style=\"text-align: right;\">\n",
              "      <th></th>\n",
              "      <th>SNo</th>\n",
              "      <th>ObservationDate</th>\n",
              "      <th>Province/State</th>\n",
              "      <th>Country/Region</th>\n",
              "      <th>Last Update</th>\n",
              "      <th>Confirmed</th>\n",
              "      <th>Deaths</th>\n",
              "      <th>Recovered</th>\n",
              "    </tr>\n",
              "  </thead>\n",
              "  <tbody>\n",
              "    <tr>\n",
              "      <th>53922</th>\n",
              "      <td>53923</td>\n",
              "      <td>06/30/2020</td>\n",
              "      <td>Zacatecas</td>\n",
              "      <td>Mexico</td>\n",
              "      <td>2020-07-01 04:33:52</td>\n",
              "      <td>908.0</td>\n",
              "      <td>96.0</td>\n",
              "      <td>626.0</td>\n",
              "    </tr>\n",
              "    <tr>\n",
              "      <th>53923</th>\n",
              "      <td>53924</td>\n",
              "      <td>06/30/2020</td>\n",
              "      <td>Zakarpattia Oblast</td>\n",
              "      <td>Ukraine</td>\n",
              "      <td>2020-07-01 04:33:52</td>\n",
              "      <td>2889.0</td>\n",
              "      <td>91.0</td>\n",
              "      <td>943.0</td>\n",
              "    </tr>\n",
              "    <tr>\n",
              "      <th>53924</th>\n",
              "      <td>53925</td>\n",
              "      <td>06/30/2020</td>\n",
              "      <td>Zaporizhia Oblast</td>\n",
              "      <td>Ukraine</td>\n",
              "      <td>2020-07-01 04:33:52</td>\n",
              "      <td>572.0</td>\n",
              "      <td>17.0</td>\n",
              "      <td>418.0</td>\n",
              "    </tr>\n",
              "    <tr>\n",
              "      <th>53925</th>\n",
              "      <td>53926</td>\n",
              "      <td>06/30/2020</td>\n",
              "      <td>Zhejiang</td>\n",
              "      <td>Mainland China</td>\n",
              "      <td>2020-07-01 04:33:52</td>\n",
              "      <td>1269.0</td>\n",
              "      <td>1.0</td>\n",
              "      <td>1267.0</td>\n",
              "    </tr>\n",
              "    <tr>\n",
              "      <th>53926</th>\n",
              "      <td>53927</td>\n",
              "      <td>06/30/2020</td>\n",
              "      <td>Zhytomyr Oblast</td>\n",
              "      <td>Ukraine</td>\n",
              "      <td>2020-07-01 04:33:52</td>\n",
              "      <td>1404.0</td>\n",
              "      <td>29.0</td>\n",
              "      <td>746.0</td>\n",
              "    </tr>\n",
              "  </tbody>\n",
              "</table>\n",
              "</div>"
            ],
            "text/plain": [
              "         SNo ObservationDate      Province/State  ... Confirmed Deaths  Recovered\n",
              "53922  53923      06/30/2020           Zacatecas  ...     908.0   96.0      626.0\n",
              "53923  53924      06/30/2020  Zakarpattia Oblast  ...    2889.0   91.0      943.0\n",
              "53924  53925      06/30/2020   Zaporizhia Oblast  ...     572.0   17.0      418.0\n",
              "53925  53926      06/30/2020            Zhejiang  ...    1269.0    1.0     1267.0\n",
              "53926  53927      06/30/2020     Zhytomyr Oblast  ...    1404.0   29.0      746.0\n",
              "\n",
              "[5 rows x 8 columns]"
            ]
          },
          "metadata": {
            "tags": []
          },
          "execution_count": 11
        }
      ]
    },
    {
      "cell_type": "code",
      "metadata": {
        "id": "uGDxHKSd7E30",
        "colab_type": "code",
        "colab": {}
      },
      "source": [
        "data_cols = [\"Infected\", \"Deaths\", \"Recovered\"]\n",
        "variable_dict = {\"Susceptible\": \"S\", \"Infected\": \"I\", \"Recovered\": \"R\", \"Deaths\": \"D\"}\n",
        "ncov_df = raw.rename({\"ObservationDate\": \"Date\", \"State\": \"State\"}, axis=1)\n",
        "ncov_df[\"Date\"] = pd.to_datetime(ncov_df[\"Date\"])\n",
        "ncov_df[\"Country\"] = ncov_df[\"Country/Region\"]\n",
        "ncov_df[\"State\"] = ncov_df[\"Province/State\"].fillna(\"-\")\n",
        "ncov_df[\"Infected\"] = ncov_df[\"Confirmed\"] - ncov_df[\"Deaths\"] - ncov_df[\"Recovered\"]\n",
        "ncov_df[data_cols] = ncov_df[data_cols].astype(np.int64)\n",
        "ncov_df = ncov_df.loc[:, [\"Date\", \"Country\", \"State\", *data_cols]]"
      ],
      "execution_count": null,
      "outputs": []
    },
    {
      "cell_type": "code",
      "metadata": {
        "id": "vPoobvwaHhgL",
        "colab_type": "code",
        "colab": {
          "base_uri": "https://localhost:8080/",
          "height": 415
        },
        "outputId": "22e85941-018b-4131-8f34-d2b72c9f5118"
      },
      "source": [
        "ncov_df.loc[ncov_df['Country'] == 'India']"
      ],
      "execution_count": null,
      "outputs": [
        {
          "output_type": "execute_result",
          "data": {
            "text/html": [
              "<div>\n",
              "<style scoped>\n",
              "    .dataframe tbody tr th:only-of-type {\n",
              "        vertical-align: middle;\n",
              "    }\n",
              "\n",
              "    .dataframe tbody tr th {\n",
              "        vertical-align: top;\n",
              "    }\n",
              "\n",
              "    .dataframe thead th {\n",
              "        text-align: right;\n",
              "    }\n",
              "</style>\n",
              "<table border=\"1\" class=\"dataframe\">\n",
              "  <thead>\n",
              "    <tr style=\"text-align: right;\">\n",
              "      <th></th>\n",
              "      <th>Date</th>\n",
              "      <th>Country</th>\n",
              "      <th>State</th>\n",
              "      <th>Infected</th>\n",
              "      <th>Deaths</th>\n",
              "      <th>Recovered</th>\n",
              "    </tr>\n",
              "  </thead>\n",
              "  <tbody>\n",
              "    <tr>\n",
              "      <th>430</th>\n",
              "      <td>2020-01-30</td>\n",
              "      <td>India</td>\n",
              "      <td>-</td>\n",
              "      <td>1</td>\n",
              "      <td>0</td>\n",
              "      <td>0</td>\n",
              "    </tr>\n",
              "    <tr>\n",
              "      <th>491</th>\n",
              "      <td>2020-01-31</td>\n",
              "      <td>India</td>\n",
              "      <td>-</td>\n",
              "      <td>1</td>\n",
              "      <td>0</td>\n",
              "      <td>0</td>\n",
              "    </tr>\n",
              "    <tr>\n",
              "      <th>547</th>\n",
              "      <td>2020-02-01</td>\n",
              "      <td>India</td>\n",
              "      <td>-</td>\n",
              "      <td>1</td>\n",
              "      <td>0</td>\n",
              "      <td>0</td>\n",
              "    </tr>\n",
              "    <tr>\n",
              "      <th>607</th>\n",
              "      <td>2020-02-02</td>\n",
              "      <td>India</td>\n",
              "      <td>-</td>\n",
              "      <td>2</td>\n",
              "      <td>0</td>\n",
              "      <td>0</td>\n",
              "    </tr>\n",
              "    <tr>\n",
              "      <th>672</th>\n",
              "      <td>2020-02-03</td>\n",
              "      <td>India</td>\n",
              "      <td>-</td>\n",
              "      <td>3</td>\n",
              "      <td>0</td>\n",
              "      <td>0</td>\n",
              "    </tr>\n",
              "    <tr>\n",
              "      <th>...</th>\n",
              "      <td>...</td>\n",
              "      <td>...</td>\n",
              "      <td>...</td>\n",
              "      <td>...</td>\n",
              "      <td>...</td>\n",
              "      <td>...</td>\n",
              "    </tr>\n",
              "    <tr>\n",
              "      <th>53859</th>\n",
              "      <td>2020-06-30</td>\n",
              "      <td>India</td>\n",
              "      <td>Tripura</td>\n",
              "      <td>301</td>\n",
              "      <td>1</td>\n",
              "      <td>1086</td>\n",
              "    </tr>\n",
              "    <tr>\n",
              "      <th>53873</th>\n",
              "      <td>2020-06-30</td>\n",
              "      <td>India</td>\n",
              "      <td>Unknown</td>\n",
              "      <td>6915</td>\n",
              "      <td>0</td>\n",
              "      <td>0</td>\n",
              "    </tr>\n",
              "    <tr>\n",
              "      <th>53880</th>\n",
              "      <td>2020-06-30</td>\n",
              "      <td>India</td>\n",
              "      <td>Uttar Pradesh</td>\n",
              "      <td>6711</td>\n",
              "      <td>697</td>\n",
              "      <td>16084</td>\n",
              "    </tr>\n",
              "    <tr>\n",
              "      <th>53881</th>\n",
              "      <td>2020-06-30</td>\n",
              "      <td>India</td>\n",
              "      <td>Uttarakhand</td>\n",
              "      <td>609</td>\n",
              "      <td>41</td>\n",
              "      <td>2231</td>\n",
              "    </tr>\n",
              "    <tr>\n",
              "      <th>53907</th>\n",
              "      <td>2020-06-30</td>\n",
              "      <td>India</td>\n",
              "      <td>West Bengal</td>\n",
              "      <td>5761</td>\n",
              "      <td>668</td>\n",
              "      <td>12130</td>\n",
              "    </tr>\n",
              "  </tbody>\n",
              "</table>\n",
              "<p>888 rows × 6 columns</p>\n",
              "</div>"
            ],
            "text/plain": [
              "            Date Country          State  Infected  Deaths  Recovered\n",
              "430   2020-01-30   India              -         1       0          0\n",
              "491   2020-01-31   India              -         1       0          0\n",
              "547   2020-02-01   India              -         1       0          0\n",
              "607   2020-02-02   India              -         2       0          0\n",
              "672   2020-02-03   India              -         3       0          0\n",
              "...          ...     ...            ...       ...     ...        ...\n",
              "53859 2020-06-30   India        Tripura       301       1       1086\n",
              "53873 2020-06-30   India        Unknown      6915       0          0\n",
              "53880 2020-06-30   India  Uttar Pradesh      6711     697      16084\n",
              "53881 2020-06-30   India    Uttarakhand       609      41       2231\n",
              "53907 2020-06-30   India    West Bengal      5761     668      12130\n",
              "\n",
              "[888 rows x 6 columns]"
            ]
          },
          "metadata": {
            "tags": []
          },
          "execution_count": 13
        }
      ]
    },
    {
      "cell_type": "code",
      "metadata": {
        "id": "RziV_LHkHkSl",
        "colab_type": "code",
        "colab": {
          "base_uri": "https://localhost:8080/",
          "height": 693
        },
        "outputId": "1aa8717a-0d08-4231-cadb-0096039a49a5"
      },
      "source": [
        "ncov_df.loc[ncov_df['State'] == 'Maharashtra']"
      ],
      "execution_count": null,
      "outputs": [
        {
          "output_type": "execute_result",
          "data": {
            "text/html": [
              "<div>\n",
              "<style scoped>\n",
              "    .dataframe tbody tr th:only-of-type {\n",
              "        vertical-align: middle;\n",
              "    }\n",
              "\n",
              "    .dataframe tbody tr th {\n",
              "        vertical-align: top;\n",
              "    }\n",
              "\n",
              "    .dataframe thead th {\n",
              "        text-align: right;\n",
              "    }\n",
              "</style>\n",
              "<table border=\"1\" class=\"dataframe\">\n",
              "  <thead>\n",
              "    <tr style=\"text-align: right;\">\n",
              "      <th></th>\n",
              "      <th>Date</th>\n",
              "      <th>Country</th>\n",
              "      <th>State</th>\n",
              "      <th>Infected</th>\n",
              "      <th>Deaths</th>\n",
              "      <th>Recovered</th>\n",
              "    </tr>\n",
              "  </thead>\n",
              "  <tbody>\n",
              "    <tr>\n",
              "      <th>39066</th>\n",
              "      <td>2020-06-10</td>\n",
              "      <td>India</td>\n",
              "      <td>Maharashtra</td>\n",
              "      <td>44860</td>\n",
              "      <td>3289</td>\n",
              "      <td>42638</td>\n",
              "    </tr>\n",
              "    <tr>\n",
              "      <th>39791</th>\n",
              "      <td>2020-06-11</td>\n",
              "      <td>India</td>\n",
              "      <td>Maharashtra</td>\n",
              "      <td>47980</td>\n",
              "      <td>3590</td>\n",
              "      <td>46078</td>\n",
              "    </tr>\n",
              "    <tr>\n",
              "      <th>40520</th>\n",
              "      <td>2020-06-12</td>\n",
              "      <td>India</td>\n",
              "      <td>Maharashtra</td>\n",
              "      <td>47980</td>\n",
              "      <td>3590</td>\n",
              "      <td>46078</td>\n",
              "    </tr>\n",
              "    <tr>\n",
              "      <th>41249</th>\n",
              "      <td>2020-06-13</td>\n",
              "      <td>India</td>\n",
              "      <td>Maharashtra</td>\n",
              "      <td>49628</td>\n",
              "      <td>3717</td>\n",
              "      <td>47796</td>\n",
              "    </tr>\n",
              "    <tr>\n",
              "      <th>41978</th>\n",
              "      <td>2020-06-14</td>\n",
              "      <td>India</td>\n",
              "      <td>Maharashtra</td>\n",
              "      <td>51392</td>\n",
              "      <td>3830</td>\n",
              "      <td>49346</td>\n",
              "    </tr>\n",
              "    <tr>\n",
              "      <th>42707</th>\n",
              "      <td>2020-06-15</td>\n",
              "      <td>India</td>\n",
              "      <td>Maharashtra</td>\n",
              "      <td>50567</td>\n",
              "      <td>4128</td>\n",
              "      <td>56049</td>\n",
              "    </tr>\n",
              "    <tr>\n",
              "      <th>43436</th>\n",
              "      <td>2020-06-16</td>\n",
              "      <td>India</td>\n",
              "      <td>Maharashtra</td>\n",
              "      <td>50057</td>\n",
              "      <td>5537</td>\n",
              "      <td>57851</td>\n",
              "    </tr>\n",
              "    <tr>\n",
              "      <th>44165</th>\n",
              "      <td>2020-06-17</td>\n",
              "      <td>India</td>\n",
              "      <td>Maharashtra</td>\n",
              "      <td>51935</td>\n",
              "      <td>5651</td>\n",
              "      <td>59166</td>\n",
              "    </tr>\n",
              "    <tr>\n",
              "      <th>44894</th>\n",
              "      <td>2020-06-18</td>\n",
              "      <td>India</td>\n",
              "      <td>Maharashtra</td>\n",
              "      <td>53915</td>\n",
              "      <td>5751</td>\n",
              "      <td>60838</td>\n",
              "    </tr>\n",
              "    <tr>\n",
              "      <th>45623</th>\n",
              "      <td>2020-06-19</td>\n",
              "      <td>India</td>\n",
              "      <td>Maharashtra</td>\n",
              "      <td>55665</td>\n",
              "      <td>5893</td>\n",
              "      <td>62773</td>\n",
              "    </tr>\n",
              "    <tr>\n",
              "      <th>46352</th>\n",
              "      <td>2020-06-20</td>\n",
              "      <td>India</td>\n",
              "      <td>Maharashtra</td>\n",
              "      <td>58068</td>\n",
              "      <td>5984</td>\n",
              "      <td>64153</td>\n",
              "    </tr>\n",
              "    <tr>\n",
              "      <th>47081</th>\n",
              "      <td>2020-06-21</td>\n",
              "      <td>India</td>\n",
              "      <td>Maharashtra</td>\n",
              "      <td>60161</td>\n",
              "      <td>6170</td>\n",
              "      <td>65744</td>\n",
              "    </tr>\n",
              "    <tr>\n",
              "      <th>47810</th>\n",
              "      <td>2020-06-22</td>\n",
              "      <td>India</td>\n",
              "      <td>Maharashtra</td>\n",
              "      <td>61807</td>\n",
              "      <td>6283</td>\n",
              "      <td>67706</td>\n",
              "    </tr>\n",
              "    <tr>\n",
              "      <th>48539</th>\n",
              "      <td>2020-06-23</td>\n",
              "      <td>India</td>\n",
              "      <td>Maharashtra</td>\n",
              "      <td>62848</td>\n",
              "      <td>6531</td>\n",
              "      <td>69631</td>\n",
              "    </tr>\n",
              "    <tr>\n",
              "      <th>49268</th>\n",
              "      <td>2020-06-24</td>\n",
              "      <td>India</td>\n",
              "      <td>Maharashtra</td>\n",
              "      <td>62369</td>\n",
              "      <td>6739</td>\n",
              "      <td>73792</td>\n",
              "    </tr>\n",
              "    <tr>\n",
              "      <th>49997</th>\n",
              "      <td>2020-06-25</td>\n",
              "      <td>India</td>\n",
              "      <td>Maharashtra</td>\n",
              "      <td>63357</td>\n",
              "      <td>6931</td>\n",
              "      <td>77453</td>\n",
              "    </tr>\n",
              "    <tr>\n",
              "      <th>50726</th>\n",
              "      <td>2020-06-26</td>\n",
              "      <td>India</td>\n",
              "      <td>Maharashtra</td>\n",
              "      <td>65844</td>\n",
              "      <td>7106</td>\n",
              "      <td>79815</td>\n",
              "    </tr>\n",
              "    <tr>\n",
              "      <th>51455</th>\n",
              "      <td>2020-06-27</td>\n",
              "      <td>India</td>\n",
              "      <td>Maharashtra</td>\n",
              "      <td>67615</td>\n",
              "      <td>7273</td>\n",
              "      <td>84245</td>\n",
              "    </tr>\n",
              "    <tr>\n",
              "      <th>52184</th>\n",
              "      <td>2020-06-28</td>\n",
              "      <td>India</td>\n",
              "      <td>Maharashtra</td>\n",
              "      <td>70622</td>\n",
              "      <td>7429</td>\n",
              "      <td>86575</td>\n",
              "    </tr>\n",
              "    <tr>\n",
              "      <th>52913</th>\n",
              "      <td>2020-06-29</td>\n",
              "      <td>India</td>\n",
              "      <td>Maharashtra</td>\n",
              "      <td>73313</td>\n",
              "      <td>7610</td>\n",
              "      <td>88960</td>\n",
              "    </tr>\n",
              "    <tr>\n",
              "      <th>53642</th>\n",
              "      <td>2020-06-30</td>\n",
              "      <td>India</td>\n",
              "      <td>Maharashtra</td>\n",
              "      <td>75995</td>\n",
              "      <td>7855</td>\n",
              "      <td>90911</td>\n",
              "    </tr>\n",
              "  </tbody>\n",
              "</table>\n",
              "</div>"
            ],
            "text/plain": [
              "            Date Country        State  Infected  Deaths  Recovered\n",
              "39066 2020-06-10   India  Maharashtra     44860    3289      42638\n",
              "39791 2020-06-11   India  Maharashtra     47980    3590      46078\n",
              "40520 2020-06-12   India  Maharashtra     47980    3590      46078\n",
              "41249 2020-06-13   India  Maharashtra     49628    3717      47796\n",
              "41978 2020-06-14   India  Maharashtra     51392    3830      49346\n",
              "42707 2020-06-15   India  Maharashtra     50567    4128      56049\n",
              "43436 2020-06-16   India  Maharashtra     50057    5537      57851\n",
              "44165 2020-06-17   India  Maharashtra     51935    5651      59166\n",
              "44894 2020-06-18   India  Maharashtra     53915    5751      60838\n",
              "45623 2020-06-19   India  Maharashtra     55665    5893      62773\n",
              "46352 2020-06-20   India  Maharashtra     58068    5984      64153\n",
              "47081 2020-06-21   India  Maharashtra     60161    6170      65744\n",
              "47810 2020-06-22   India  Maharashtra     61807    6283      67706\n",
              "48539 2020-06-23   India  Maharashtra     62848    6531      69631\n",
              "49268 2020-06-24   India  Maharashtra     62369    6739      73792\n",
              "49997 2020-06-25   India  Maharashtra     63357    6931      77453\n",
              "50726 2020-06-26   India  Maharashtra     65844    7106      79815\n",
              "51455 2020-06-27   India  Maharashtra     67615    7273      84245\n",
              "52184 2020-06-28   India  Maharashtra     70622    7429      86575\n",
              "52913 2020-06-29   India  Maharashtra     73313    7610      88960\n",
              "53642 2020-06-30   India  Maharashtra     75995    7855      90911"
            ]
          },
          "metadata": {
            "tags": []
          },
          "execution_count": 14
        }
      ]
    },
    {
      "cell_type": "code",
      "metadata": {
        "id": "qGqYxB8UKT6b",
        "colab_type": "code",
        "colab": {
          "base_uri": "https://localhost:8080/",
          "height": 415
        },
        "outputId": "74705f3d-eb98-47d8-c066-9d96fe389cc7"
      },
      "source": [
        "india = ncov_df.drop(columns='State')\n",
        "india = india.loc[india['Country'] == 'India']\n",
        "india"
      ],
      "execution_count": null,
      "outputs": [
        {
          "output_type": "execute_result",
          "data": {
            "text/html": [
              "<div>\n",
              "<style scoped>\n",
              "    .dataframe tbody tr th:only-of-type {\n",
              "        vertical-align: middle;\n",
              "    }\n",
              "\n",
              "    .dataframe tbody tr th {\n",
              "        vertical-align: top;\n",
              "    }\n",
              "\n",
              "    .dataframe thead th {\n",
              "        text-align: right;\n",
              "    }\n",
              "</style>\n",
              "<table border=\"1\" class=\"dataframe\">\n",
              "  <thead>\n",
              "    <tr style=\"text-align: right;\">\n",
              "      <th></th>\n",
              "      <th>Date</th>\n",
              "      <th>Country</th>\n",
              "      <th>Infected</th>\n",
              "      <th>Deaths</th>\n",
              "      <th>Recovered</th>\n",
              "    </tr>\n",
              "  </thead>\n",
              "  <tbody>\n",
              "    <tr>\n",
              "      <th>430</th>\n",
              "      <td>2020-01-30</td>\n",
              "      <td>India</td>\n",
              "      <td>1</td>\n",
              "      <td>0</td>\n",
              "      <td>0</td>\n",
              "    </tr>\n",
              "    <tr>\n",
              "      <th>491</th>\n",
              "      <td>2020-01-31</td>\n",
              "      <td>India</td>\n",
              "      <td>1</td>\n",
              "      <td>0</td>\n",
              "      <td>0</td>\n",
              "    </tr>\n",
              "    <tr>\n",
              "      <th>547</th>\n",
              "      <td>2020-02-01</td>\n",
              "      <td>India</td>\n",
              "      <td>1</td>\n",
              "      <td>0</td>\n",
              "      <td>0</td>\n",
              "    </tr>\n",
              "    <tr>\n",
              "      <th>607</th>\n",
              "      <td>2020-02-02</td>\n",
              "      <td>India</td>\n",
              "      <td>2</td>\n",
              "      <td>0</td>\n",
              "      <td>0</td>\n",
              "    </tr>\n",
              "    <tr>\n",
              "      <th>672</th>\n",
              "      <td>2020-02-03</td>\n",
              "      <td>India</td>\n",
              "      <td>3</td>\n",
              "      <td>0</td>\n",
              "      <td>0</td>\n",
              "    </tr>\n",
              "    <tr>\n",
              "      <th>...</th>\n",
              "      <td>...</td>\n",
              "      <td>...</td>\n",
              "      <td>...</td>\n",
              "      <td>...</td>\n",
              "      <td>...</td>\n",
              "    </tr>\n",
              "    <tr>\n",
              "      <th>53859</th>\n",
              "      <td>2020-06-30</td>\n",
              "      <td>India</td>\n",
              "      <td>301</td>\n",
              "      <td>1</td>\n",
              "      <td>1086</td>\n",
              "    </tr>\n",
              "    <tr>\n",
              "      <th>53873</th>\n",
              "      <td>2020-06-30</td>\n",
              "      <td>India</td>\n",
              "      <td>6915</td>\n",
              "      <td>0</td>\n",
              "      <td>0</td>\n",
              "    </tr>\n",
              "    <tr>\n",
              "      <th>53880</th>\n",
              "      <td>2020-06-30</td>\n",
              "      <td>India</td>\n",
              "      <td>6711</td>\n",
              "      <td>697</td>\n",
              "      <td>16084</td>\n",
              "    </tr>\n",
              "    <tr>\n",
              "      <th>53881</th>\n",
              "      <td>2020-06-30</td>\n",
              "      <td>India</td>\n",
              "      <td>609</td>\n",
              "      <td>41</td>\n",
              "      <td>2231</td>\n",
              "    </tr>\n",
              "    <tr>\n",
              "      <th>53907</th>\n",
              "      <td>2020-06-30</td>\n",
              "      <td>India</td>\n",
              "      <td>5761</td>\n",
              "      <td>668</td>\n",
              "      <td>12130</td>\n",
              "    </tr>\n",
              "  </tbody>\n",
              "</table>\n",
              "<p>888 rows × 5 columns</p>\n",
              "</div>"
            ],
            "text/plain": [
              "            Date Country  Infected  Deaths  Recovered\n",
              "430   2020-01-30   India         1       0          0\n",
              "491   2020-01-31   India         1       0          0\n",
              "547   2020-02-01   India         1       0          0\n",
              "607   2020-02-02   India         2       0          0\n",
              "672   2020-02-03   India         3       0          0\n",
              "...          ...     ...       ...     ...        ...\n",
              "53859 2020-06-30   India       301       1       1086\n",
              "53873 2020-06-30   India      6915       0          0\n",
              "53880 2020-06-30   India      6711     697      16084\n",
              "53881 2020-06-30   India       609      41       2231\n",
              "53907 2020-06-30   India      5761     668      12130\n",
              "\n",
              "[888 rows x 5 columns]"
            ]
          },
          "metadata": {
            "tags": []
          },
          "execution_count": 15
        }
      ]
    },
    {
      "cell_type": "code",
      "metadata": {
        "id": "255Q7dExL3jl",
        "colab_type": "code",
        "colab": {}
      },
      "source": [
        "india.reset_index(drop=True, inplace=True)"
      ],
      "execution_count": null,
      "outputs": []
    },
    {
      "cell_type": "code",
      "metadata": {
        "id": "itgR9DWINqgX",
        "colab_type": "code",
        "colab": {
          "base_uri": "https://localhost:8080/",
          "height": 415
        },
        "outputId": "514e34ec-4e46-4e09-e518-1491de56907f"
      },
      "source": [
        "india = india.groupby(india['Date'], as_index=False).sum()\n",
        "india"
      ],
      "execution_count": null,
      "outputs": [
        {
          "output_type": "execute_result",
          "data": {
            "text/html": [
              "<div>\n",
              "<style scoped>\n",
              "    .dataframe tbody tr th:only-of-type {\n",
              "        vertical-align: middle;\n",
              "    }\n",
              "\n",
              "    .dataframe tbody tr th {\n",
              "        vertical-align: top;\n",
              "    }\n",
              "\n",
              "    .dataframe thead th {\n",
              "        text-align: right;\n",
              "    }\n",
              "</style>\n",
              "<table border=\"1\" class=\"dataframe\">\n",
              "  <thead>\n",
              "    <tr style=\"text-align: right;\">\n",
              "      <th></th>\n",
              "      <th>Date</th>\n",
              "      <th>Infected</th>\n",
              "      <th>Deaths</th>\n",
              "      <th>Recovered</th>\n",
              "    </tr>\n",
              "  </thead>\n",
              "  <tbody>\n",
              "    <tr>\n",
              "      <th>0</th>\n",
              "      <td>2020-01-30</td>\n",
              "      <td>1</td>\n",
              "      <td>0</td>\n",
              "      <td>0</td>\n",
              "    </tr>\n",
              "    <tr>\n",
              "      <th>1</th>\n",
              "      <td>2020-01-31</td>\n",
              "      <td>1</td>\n",
              "      <td>0</td>\n",
              "      <td>0</td>\n",
              "    </tr>\n",
              "    <tr>\n",
              "      <th>2</th>\n",
              "      <td>2020-02-01</td>\n",
              "      <td>1</td>\n",
              "      <td>0</td>\n",
              "      <td>0</td>\n",
              "    </tr>\n",
              "    <tr>\n",
              "      <th>3</th>\n",
              "      <td>2020-02-02</td>\n",
              "      <td>2</td>\n",
              "      <td>0</td>\n",
              "      <td>0</td>\n",
              "    </tr>\n",
              "    <tr>\n",
              "      <th>4</th>\n",
              "      <td>2020-02-03</td>\n",
              "      <td>3</td>\n",
              "      <td>0</td>\n",
              "      <td>0</td>\n",
              "    </tr>\n",
              "    <tr>\n",
              "      <th>...</th>\n",
              "      <td>...</td>\n",
              "      <td>...</td>\n",
              "      <td>...</td>\n",
              "      <td>...</td>\n",
              "    </tr>\n",
              "    <tr>\n",
              "      <th>148</th>\n",
              "      <td>2020-06-26</td>\n",
              "      <td>197387</td>\n",
              "      <td>15685</td>\n",
              "      <td>295881</td>\n",
              "    </tr>\n",
              "    <tr>\n",
              "      <th>149</th>\n",
              "      <td>2020-06-27</td>\n",
              "      <td>203051</td>\n",
              "      <td>16095</td>\n",
              "      <td>309713</td>\n",
              "    </tr>\n",
              "    <tr>\n",
              "      <th>150</th>\n",
              "      <td>2020-06-28</td>\n",
              "      <td>210120</td>\n",
              "      <td>16475</td>\n",
              "      <td>321723</td>\n",
              "    </tr>\n",
              "    <tr>\n",
              "      <th>151</th>\n",
              "      <td>2020-06-29</td>\n",
              "      <td>215125</td>\n",
              "      <td>16893</td>\n",
              "      <td>334822</td>\n",
              "    </tr>\n",
              "    <tr>\n",
              "      <th>152</th>\n",
              "      <td>2020-06-30</td>\n",
              "      <td>220114</td>\n",
              "      <td>17400</td>\n",
              "      <td>347979</td>\n",
              "    </tr>\n",
              "  </tbody>\n",
              "</table>\n",
              "<p>153 rows × 4 columns</p>\n",
              "</div>"
            ],
            "text/plain": [
              "          Date  Infected  Deaths  Recovered\n",
              "0   2020-01-30         1       0          0\n",
              "1   2020-01-31         1       0          0\n",
              "2   2020-02-01         1       0          0\n",
              "3   2020-02-02         2       0          0\n",
              "4   2020-02-03         3       0          0\n",
              "..         ...       ...     ...        ...\n",
              "148 2020-06-26    197387   15685     295881\n",
              "149 2020-06-27    203051   16095     309713\n",
              "150 2020-06-28    210120   16475     321723\n",
              "151 2020-06-29    215125   16893     334822\n",
              "152 2020-06-30    220114   17400     347979\n",
              "\n",
              "[153 rows x 4 columns]"
            ]
          },
          "metadata": {
            "tags": []
          },
          "execution_count": 17
        }
      ]
    },
    {
      "cell_type": "code",
      "metadata": {
        "id": "BJ3a08oGhVb2",
        "colab_type": "code",
        "colab": {}
      },
      "source": [
        "def show_trend(ncov_df, variable=\"Confirmed\", n_changepoints=4):\n",
        "    \"\"\"\n",
        "    Show trend of log10(@variable) using fbprophet package.\n",
        "    @ncov_df <pd.DataFrame>: the clean data\n",
        "    @variable <str>: variable name to analyse\n",
        "        - if Confirmed, use Infected + Recovered + Deaths\n",
        "    @n_changepoints <int>: max number of change points\n",
        "    \"\"\"\n",
        "    # Data arrangement\n",
        "    df = ncov_df\n",
        "    if variable == \"Confirmed\":\n",
        "        df[\"Confirmed\"] = df[[\"Infected\", \"Recovered\", \"Deaths\"]].sum(axis=1)\n",
        "    df = df.loc[:, [\"Date\", variable]]\n",
        "    df.columns = [\"ds\", \"y\"]\n",
        "    # Log10(x)\n",
        "    warnings.resetwarnings()\n",
        "    with warnings.catch_warnings():\n",
        "        warnings.simplefilter(\"ignore\")\n",
        "        df[\"y\"] = np.log10(df[\"y\"]).replace([np.inf, -np.inf], 0)\n",
        "    # fbprophet\n",
        "    model = Prophet(growth=\"linear\", daily_seasonality=False, n_changepoints=n_changepoints)\n",
        "    model.fit(df)\n",
        "    future = model.make_future_dataframe(periods=0)\n",
        "    forecast = model.predict(future)\n",
        "    # Create figure\n",
        "    fig = model.plot(forecast)\n",
        "    _ = add_changepoints_to_plot(fig.gca(), model, forecast)\n",
        "    plt.title(f\"log10({variable}) over time and chainge points\")\n",
        "    plt.ylabel(f\"log10(the number of cases)\")\n",
        "    plt.xlabel(\"\")"
      ],
      "execution_count": null,
      "outputs": []
    },
    {
      "cell_type": "code",
      "metadata": {
        "id": "05mu_CABvSY9",
        "colab_type": "code",
        "colab": {
          "base_uri": "https://localhost:8080/",
          "height": 478
        },
        "outputId": "0ad7b12f-5d7b-460c-a0f7-c3c177f675d7"
      },
      "source": [
        "show_trend(india, variable=\"Infected\")"
      ],
      "execution_count": null,
      "outputs": [
        {
          "output_type": "stream",
          "text": [
            "INFO:fbprophet:Disabling yearly seasonality. Run prophet with yearly_seasonality=True to override this.\n",
            "WARNING:fbprophet:Optimization terminated abnormally. Falling back to Newton.\n"
          ],
          "name": "stderr"
        },
        {
          "output_type": "display_data",
          "data": {
            "image/png": "[encoded data removed]",
            "text/plain": [
              "<Figure size 720x432 with 1 Axes>"
            ]
          },
          "metadata": {
            "tags": []
          }
        }
      ]
    },
    {
      "cell_type": "code",
      "metadata": {
        "id": "eK8SBSBPvX3P",
        "colab_type": "code",
        "colab": {
          "base_uri": "https://localhost:8080/",
          "height": 461
        },
        "outputId": "f64ade5d-2d88-4239-aacf-b695fb04bdac"
      },
      "source": [
        "show_trend(india, variable=\"Recovered\")"
      ],
      "execution_count": null,
      "outputs": [
        {
          "output_type": "stream",
          "text": [
            "INFO:fbprophet:Disabling yearly seasonality. Run prophet with yearly_seasonality=True to override this.\n"
          ],
          "name": "stderr"
        },
        {
          "output_type": "display_data",
          "data": {
            "image/png": "[encoded data removed]",
            "text/plain": [
              "<Figure size 720x432 with 1 Axes>"
            ]
          },
          "metadata": {
            "tags": []
          }
        }
      ]
    },
    {
      "cell_type": "code",
      "metadata": {
        "id": "xHiKg3li2O1P",
        "colab_type": "code",
        "colab": {
          "base_uri": "https://localhost:8080/",
          "height": 461
        },
        "outputId": "b54d5f20-e9ab-4253-9541-72d5f61f8b5a"
      },
      "source": [
        "show_trend(india, variable=\"Deaths\")"
      ],
      "execution_count": null,
      "outputs": [
        {
          "output_type": "stream",
          "text": [
            "INFO:fbprophet:Disabling yearly seasonality. Run prophet with yearly_seasonality=True to override this.\n"
          ],
          "name": "stderr"
        },
        {
          "output_type": "display_data",
          "data": {
            "image/png": "[encoded data removed]",
            "text/plain": [
              "<Figure size 720x432 with 1 Axes>"
            ]
          },
          "metadata": {
            "tags": []
          }
        }
      ]
    },
    {
      "cell_type": "code",
      "metadata": {
        "id": "PD6CoECyekGb",
        "colab_type": "code",
        "colab": {}
      },
      "source": [
        "\n",
        "def line_plot(df, title, ylabel=\"Cases\", h=None, v=None,\n",
        "              xlim=(None, None), ylim=(0, None), math_scale=True, y_logscale=False, y_integer=False):\n",
        "    \"\"\"\n",
        "    Show chlonological change of the data.\n",
        "    \"\"\"\n",
        "    ax = df.plot()\n",
        "    if math_scale:\n",
        "        ax.yaxis.set_major_formatter(ScalarFormatter(useMathText=True))\n",
        "        ax.ticklabel_format(style=\"sci\",  axis=\"y\",scilimits=(0, 0))\n",
        "    if y_logscale:\n",
        "        ax.set_yscale(\"log\")\n",
        "    if y_integer:\n",
        "        fmt = matplotlib.ticker.ScalarFormatter(useOffset=False)\n",
        "        fmt.set_scientific(False)\n",
        "        ax.yaxis.set_major_formatter(fmt)\n",
        "    ax.set_title(title)\n",
        "    ax.set_xlabel(None)\n",
        "    ax.set_ylabel(ylabel)\n",
        "    ax.set_xlim(*xlim)\n",
        "    ax.set_ylim(*ylim)\n",
        "    ax.legend(bbox_to_anchor=(1.02, 0), loc=\"lower left\", borderaxespad=0)\n",
        "    if h is not None:\n",
        "        ax.axhline(y=h, color=\"black\", linestyle=\"--\")\n",
        "    if v is not None:\n",
        "        if not isinstance(v, list):\n",
        "            v = [v]\n",
        "        for value in v:\n",
        "            ax.axvline(x=value, color=\"black\", linestyle=\"--\")\n",
        "    plt.show()"
      ],
      "execution_count": null,
      "outputs": []
    },
    {
      "cell_type": "code",
      "metadata": {
        "id": "ZJWx-bMTGUz2",
        "colab_type": "code",
        "colab": {}
      },
      "source": [
        "def create_target_df(ncov_df, total_population, start_date=None, date_format=\"%d%b%Y\"):\n",
        "    \"\"\"\n",
        "    Select the records of the places, calculate the number of susceptible people,\n",
        "     and calculate the elapsed time [day] from the start date of the target dataframe.\n",
        "    @ncov_df <pd.DataFrame>: the clean data\n",
        "    @total_population <int>: total population in the places\n",
        "    @start_date <str>: the start date or None\n",
        "    @date_format <str>: format of @start_date\n",
        "    @return <tuple(2 objects)>:\n",
        "        - 1. start_date <pd.Timestamp>: the start date of the selected records\n",
        "        - 2. target_df <pd.DataFrame>:\n",
        "            - column T: elapsed time [min] from the start date of the dataset\n",
        "            - column Susceptible: the number of patients who are in the palces but not infected/recovered/died\n",
        "            - column Infected: the number of infected cases\n",
        "            - column Recovered: the number of recovered cases\n",
        "            - column Deaths: the number of death cases\n",
        "    \"\"\"\n",
        "    # Select the target records\n",
        "    df = ncov_df\n",
        "    if start_date is not None:\n",
        "        df = df.loc[df[\"Date\"] > datetime.strptime(start_date, date_format), :]\n",
        "    start_date = df.loc[df.index[0], \"Date\"]\n",
        "    # column T\n",
        "    df[\"T\"] = ((df[\"Date\"] - start_date).dt.total_seconds() / 60).astype(int)\n",
        "    # coluns except T\n",
        "    df[\"Susceptible\"] = total_population - df[\"Infected\"] - df[\"Recovered\"] - df[\"Deaths\"]\n",
        "    response_variables = [\"Susceptible\", \"Infected\", \"Recovered\", \"Deaths\"]\n",
        "    # Return\n",
        "    target_df = df.loc[:, [\"T\", *response_variables]]\n",
        "    return (start_date, target_df)"
      ],
      "execution_count": null,
      "outputs": []
    },
    {
      "cell_type": "code",
      "metadata": {
        "id": "D8p42ghS2RJs",
        "colab_type": "code",
        "colab": {}
      },
      "source": [
        "def simulation(model, initials, step_n, **params):\n",
        "    \"\"\"\n",
        "    Solve ODE of the model.\n",
        "    @model <ModelBase>: the model\n",
        "    @initials <tuple[float]>: the initial values\n",
        "    @step_n <int>: the number of steps\n",
        "    \"\"\"\n",
        "    tstart, dt, tend = 0, 1, step_n\n",
        "    sol = solve_ivp(\n",
        "        fun=model(**params),\n",
        "        # Implicit Runge-Kutta method of the Radau IIA family of order 5\n",
        "        # method=\"Radau\",\n",
        "        t_span=[tstart, tend],\n",
        "        y0=np.array(initials, dtype=np.float64),\n",
        "        t_eval=np.arange(tstart, tend + dt, dt),\n",
        "        dense_output=True\n",
        "    )\n",
        "    t_df = pd.Series(data=sol[\"t\"], name=\"t\")\n",
        "    y_df = pd.DataFrame(data=sol[\"y\"].T.copy(), columns=model.VARIABLES)\n",
        "    sim_df = pd.concat([t_df, y_df], axis=1)\n",
        "    return sim_df"
      ],
      "execution_count": null,
      "outputs": []
    },
    {
      "cell_type": "code",
      "metadata": {
        "id": "LUJ2HalW9taD",
        "colab_type": "code",
        "colab": {}
      },
      "source": [
        "class Estimator(object):\n",
        "    def __init__(self, model, ncov_df, total_population, name=None, start_date=None, date_format=\"%d%b%Y\", **kwargs):\n",
        "        \"\"\"\n",
        "        Set training data.\n",
        "        @model <ModelBase>: the model\n",
        "        @name <str>: name of the area\n",
        "        @kwargs: fixed parameter of the model\n",
        "        @the other params: See the function named create_target_df()\n",
        "        \"\"\"\n",
        "        self.fixed_param_dict = kwargs.copy()\n",
        "        dataset = model.create_dataset(\n",
        "            ncov_df, total_population,\n",
        "            start_date=start_date, date_format=date_format\n",
        "        )\n",
        "        self.start_time, self.initials, self.Tend, self.train_df = dataset\n",
        "        self.total_population = total_population\n",
        "        self.name = name\n",
        "        self.model = model\n",
        "        self.param_dict = dict()\n",
        "        self.study = None\n",
        "        self.optimize_df = None\n",
        "\n",
        "    def run(self, n_trials=500):\n",
        "        \"\"\"\n",
        "        Try estimation (optimization of parameters and tau).\n",
        "        @n_trials <int>: the number of trials\n",
        "        \"\"\"\n",
        "        if self.study is None:\n",
        "            self.study = optuna.create_study(direction=\"minimize\", pruner= optuna.pruners.HyperbandPruner)\n",
        "        self.study.optimize(\n",
        "            lambda x: self.objective(x),\n",
        "            n_trials=n_trials,\n",
        "            n_jobs=-1\n",
        "        )\n",
        "        param_dict = self.study.best_params.copy()\n",
        "        param_dict.update(self.fixed_param_dict)\n",
        "        param_dict[\"R0\"] = self.calc_r0()\n",
        "        param_dict[\"score\"] = self.score()\n",
        "        param_dict.update(self.calc_days_dict())\n",
        "        self.param_dict = param_dict.copy()\n",
        "        return param_dict\n",
        "\n",
        "    def objective(self, trial):\n",
        "        # Time\n",
        "        if \"tau\" in self.fixed_param_dict.keys():\n",
        "            tau = self.fixed_param_dict[\"tau\"]\n",
        "        else:\n",
        "            tau = trial.suggest_int(\"tau\", 1, 1440)\n",
        "        # Apply adjusted Exponential Moving Average on the training data\n",
        "        #.set_index(\"T\").ewm(span=7, adjust=True).mean().reset_index()\n",
        "        train_df_divided = self.train_df.copy()\n",
        "        train_df_divided[\"t\"] = (train_df_divided[\"T\"] / tau).astype(np.int64) # int to np.int64\n",
        "        # Parameters\n",
        "        p_dict = dict()\n",
        "        for (name, info) in self.model.param_dict(train_df_divided).items():\n",
        "            if name in self.fixed_param_dict.keys():\n",
        "                param = self.fixed_param_dict[name]\n",
        "            elif info[0] == \"float\":\n",
        "                param = trial.suggest_uniform(name, info[1], info[2])\n",
        "            else:\n",
        "                param = trial.suggest_int(name, info[1], info[2])\n",
        "            p_dict[name] = param\n",
        "        # Simulation\n",
        "        t_end = train_df_divided.loc[train_df_divided.index[-1], \"t\"]\n",
        "        sim_df = simulation(self.model, self.initials, step_n=t_end, **p_dict)\n",
        "        return self.error_f(train_df_divided, sim_df)\n",
        "\n",
        "    def error_f(self, train_df_divided, sim_df):\n",
        "        \"\"\"\n",
        "        We need to minimize the difference of the observed values and estimated values.\n",
        "        This function calculate the difference of the estimated value and obsereved value.\n",
        "        \"\"\"\n",
        "        df = pd.merge(train_df_divided, sim_df, on=\"t\", suffixes=(\"_observed\", \"_estimated\"))\n",
        "        diffs = [\n",
        "            # Weighted Average: the recent data is more important\n",
        "            p * np.average(\n",
        "                abs(df[f\"{v}_observed\"] - df[f\"{v}_estimated\"]) / (df[f\"{v}_observed\"] * self.total_population + 1),\n",
        "                weights=df[\"t\"]\n",
        "            )\n",
        "            for (p, v) in zip(self.model.PRIORITIES, self.model.VARIABLES)\n",
        "        ]\n",
        "        return sum(diffs) * (self.total_population ** 2)\n",
        "\n",
        "    def compare_df(self):\n",
        "        \"\"\"\n",
        "        Show the taining data and simulated data in one dataframe.\n",
        "        \n",
        "        \"\"\"\n",
        "        est_dict = self.study.best_params.copy()\n",
        "        est_dict.update(self.fixed_param_dict)\n",
        "        tau = est_dict[\"tau\"]\n",
        "        est_dict.pop(\"tau\")\n",
        "        observed_df = self.train_df.drop(\"T\", axis=1)\n",
        "        observed_df[\"t\"] = (self.train_df[\"T\"] / tau).astype(int)\n",
        "        t_end = observed_df.loc[observed_df.index[-1], \"t\"]\n",
        "        sim_df = simulation(self.model, self.initials, step_n=t_end, **est_dict)\n",
        "        df = pd.merge(observed_df, sim_df, on=\"t\", suffixes=(\"_observed\", \"_estimated\"))\n",
        "        df = df.set_index(\"t\")\n",
        "        return df\n",
        "\n",
        "    def compare_graph(self):\n",
        "        \"\"\"\n",
        "        Compare obsereved and estimated values in graphs.\n",
        "        \"\"\"\n",
        "        df = self.compare_df()\n",
        "        use_variables = [\n",
        "            v for (i, (p, v)) in enumerate(zip(self.model.PRIORITIES, self.model.VARIABLES))\n",
        "            if p != 0 and i != 0\n",
        "        ]\n",
        "        val_len = len(use_variables) + 1\n",
        "        fig, axes = plt.subplots(ncols=1, nrows=val_len, figsize=(9, 6 * val_len / 2))\n",
        "        for (ax, v) in zip(axes.ravel()[1:],use_variables):\n",
        "            df[[f\"{v}_observed\", f\"{v}_estimated\"]].plot.line(\n",
        "                ax=ax, ylim=(0, None), sharex=True,\n",
        "                title=f\"{self.model.NAME}: Comparison of observed/estimated {v}(t)\"\n",
        "            )\n",
        "            ax.yaxis.set_major_formatter(ScalarFormatter(useMathText=True))\n",
        "            ax.ticklabel_format(style=\"sci\",  axis=\"y\",scilimits=(0, 0))\n",
        "            ax.legend(bbox_to_anchor=(1.02, 0), loc=\"lower left\", borderaxespad=0)\n",
        "        for v in use_variables:\n",
        "            df[f\"{v}_diff\"] = df[f\"{v}_observed\"] - df[f\"{v}_estimated\"]\n",
        "            df[f\"{v}_diff\"].plot.line(\n",
        "                ax=axes.ravel()[0], sharex=True,\n",
        "                title=f\"{self.model.NAME}: observed - estimated\"\n",
        "            )\n",
        "        axes.ravel()[0].axhline(y=0, color=\"black\", linestyle=\"--\")\n",
        "        axes.ravel()[0].yaxis.set_major_formatter(ScalarFormatter(useMathText=True))\n",
        "        axes.ravel()[0].ticklabel_format(style=\"sci\",  axis=\"y\",scilimits=(0, 0))\n",
        "        axes.ravel()[0].legend(bbox_to_anchor=(1.02, 0), loc=\"lower left\", borderaxespad=0)\n",
        "        fig.tight_layout()\n",
        "        fig.show()\n",
        "    \n",
        "    def calc_r0(self):\n",
        "        \"\"\"\n",
        "        Calculate R0.\n",
        "        \"\"\"\n",
        "        est_dict = self.study.best_params.copy()\n",
        "        est_dict.update(self.fixed_param_dict)\n",
        "        est_dict.pop(\"tau\")\n",
        "        model_instance = self.model(**est_dict)\n",
        "        return model_instance.calc_r0()\n",
        "\n",
        "    def calc_days_dict(self):\n",
        "        \"\"\"\n",
        "        Calculate 1/beta etc.\n",
        "        \"\"\"\n",
        "        est_dict = self.study.best_params.copy()\n",
        "        est_dict.update(self.fixed_param_dict)\n",
        "        tau = est_dict[\"tau\"]\n",
        "        est_dict.pop(\"tau\")\n",
        "        model_instance = self.model(**est_dict)\n",
        "        return model_instance.calc_days_dict(tau)\n",
        "\n",
        "\n",
        "    def score(self):\n",
        "        \"\"\"\n",
        "        Return the sum of differences of observed and estimated values devided by the number of steps.\n",
        "        \"\"\"\n",
        "        variables = self.model.VARIABLES[:]\n",
        "        compare_df = self.compare_df()\n",
        "        score = 0\n",
        "        for v in variables:\n",
        "            score += abs(compare_df[f\"{v}_observed\"] - compare_df[f\"{v}_estimated\"]).sum()\n",
        "        score = score / len(compare_df)\n",
        "        return score\n",
        "\n",
        "    def info(self):\n",
        "        \"\"\"\n",
        "        Return Estimater information.\n",
        "        @return <tupple[object]>:\n",
        "            - <ModelBase>: model\n",
        "            - <dict[str]=str>: name, total_population, start_time, tau\n",
        "            - <dict[str]=float>: values of parameters of model\n",
        "        \"\"\"\n",
        "        param_dict = self.study.best_params.copy()\n",
        "        param_dict.update(self.fixed_param_dict)\n",
        "        info_dict = {\n",
        "            \"name\": self.name,\n",
        "            \"total_population\": self.total_population,\n",
        "            \"start_time\": self.start_time,\n",
        "            \"tau\": param_dict[\"tau\"],\n",
        "            \"initials\": self.initials\n",
        "        }\n",
        "        param_dict.pop(\"tau\")\n",
        "        return (self.model, info_dict, param_dict)"
      ],
      "execution_count": null,
      "outputs": []
    },
    {
      "cell_type": "code",
      "metadata": {
        "id": "a_N-fYXyNo0g",
        "colab_type": "code",
        "colab": {}
      },
      "source": [
        "class ModelBase(object):\n",
        "    NAME = \"Model\"\n",
        "    VARIABLES = [\"x\"]\n",
        "    PRIORITIES = np.array([1])\n",
        "    QUANTILE_RANGE = [0.3, 0.7]\n",
        "\n",
        "    @classmethod\n",
        "    def param_dict(cls, train_df_divided=None, q_range=None):\n",
        "        \"\"\"\n",
        "        Define parameters without tau. This function should be overwritten.\n",
        "        @train_df_divided <pd.DataFrame>:\n",
        "            - column: t and non-dimensional variables\n",
        "        @q_range <list[float, float]>: quantile rage of the parameters calculated by the data\n",
        "        @return <dict[name]=(type, min, max):\n",
        "            @type <str>: \"float\" or \"int\"\n",
        "            @min <float/int>: min value\n",
        "            @max <float/int>: max value\n",
        "        \"\"\"\n",
        "        param_dict = dict()\n",
        "        return param_dict\n",
        "\n",
        "    @staticmethod\n",
        "    def calc_variables(df):\n",
        "        \"\"\"\n",
        "        Calculate the variables of the model.\n",
        "        This function should be overwritten.\n",
        "        @df <pd.DataFrame>\n",
        "        @return <pd.DataFrame>\n",
        "        \"\"\"\n",
        "        return df\n",
        "\n",
        "    @staticmethod\n",
        "    def calc_variables_reverse(df):\n",
        "        \"\"\"\n",
        "        Calculate measurable variables using the variables of the model.\n",
        "        This function should be overwritten.\n",
        "        @df <pd.DataFrame>\n",
        "        @return <pd.DataFrame>\n",
        "        \"\"\"\n",
        "        return df\n",
        "\n",
        "    @classmethod\n",
        "    def create_dataset(cls, ncov_df, total_population, start_date=None, date_format=\"%d%b%Y\"):\n",
        "        \"\"\"\n",
        "        Create dataset with the model-specific varibles.\n",
        "        The variables will be divided by total population.\n",
        "        The column names (not include T) will be lower letters.\n",
        "        @params: See the function named create_target_df()\n",
        "        @return <tuple(objects)>:\n",
        "            - start_date <pd.Timestamp>\n",
        "            - initials <tuple(float)>: the initial values\n",
        "            - Tend <int>: the last value of T\n",
        "            - df <pd.DataFrame>: the dataset\n",
        "        \"\"\"\n",
        "        start_date, target_df = create_target_df(\n",
        "            ncov_df, total_population,\n",
        "            start_date=start_date, date_format=date_format\n",
        "        )\n",
        "        df = cls.calc_variables(target_df).set_index(\"T\") / total_population\n",
        "        df.columns = [n.lower() for n in df.columns]\n",
        "        initials = df.iloc[0, :].values\n",
        "        df = df.reset_index()\n",
        "        Tend = df.iloc[-1, 0]\n",
        "        return (start_date, initials, Tend, df)\n",
        "\n",
        "    def calc_r0(self):\n",
        "        \"\"\"\n",
        "        Calculate R0. This function should be overwritten.\n",
        "        \"\"\"\n",
        "        return None\n",
        "\n",
        "    def calc_days_dict(self, tau):\n",
        "        \"\"\"\n",
        "        Calculate 1/beta [day] etc.\n",
        "        This function should be overwritten.\n",
        "        @param tau <int>: tau value [hour]\n",
        "        \"\"\"\n",
        "        return dict()"
      ],
      "execution_count": null,
      "outputs": []
    },
    {
      "cell_type": "code",
      "metadata": {
        "id": "SHBcTPGBOVb3",
        "colab_type": "code",
        "colab": {}
      },
      "source": [
        "class SIRD(ModelBase):\n",
        "    NAME = \"SIR-D\"\n",
        "    VARIABLES = [\"x\", \"y\", \"z\", \"w\"]\n",
        "    PRIORITIES = np.array([1, 10, 10, 2])\n",
        "\n",
        "    def __init__(self, kappa, rho, sigma):\n",
        "        super().__init__()\n",
        "        self.kappa = float(kappa)\n",
        "        self.rho = float(rho)\n",
        "        self.sigma = float(sigma)\n",
        "\n",
        "    def __call__(self, t, X):\n",
        "        dxdt = - self.rho * X[0] * X[1]\n",
        "        dydt = self.rho * X[0] * X[1] - (self.sigma + self.kappa) * X[1]\n",
        "        dzdt = self.sigma * X[1]\n",
        "        dwdt = self.kappa * X[1]\n",
        "        return np.array([dxdt, dydt, dzdt, dwdt])\n",
        "\n",
        "    @classmethod\n",
        "    def param_dict(cls, train_df_divided=None, q_range=None):\n",
        "        param_dict = super().param_dict()\n",
        "        q_range = super().QUANTILE_RANGE[:] if q_range is None else q_range\n",
        "        if train_df_divided is None:\n",
        "            param_dict[\"kappa\"] = (\"float\", 0, 1)\n",
        "            param_dict[\"rho\"] = (\"float\", 0, 1)\n",
        "            param_dict[\"sigma\"] = (\"float\", 0, 1)\n",
        "        else:\n",
        "            df = train_df_divided.copy()\n",
        "            # kappa = (dw/dt) / y\n",
        "            kappa_series = df[\"w\"].diff() / df[\"t\"].diff() / df[\"y\"]\n",
        "            param_dict[\"kappa\"] = (\"float\", *kappa_series.quantile(q_range))\n",
        "            # rho = - (dx/dt) / x / y\n",
        "            rho_series = 0 - df[\"x\"].diff() / df[\"t\"].diff() / df[\"x\"] / df[\"y\"]\n",
        "            param_dict[\"rho\"] = (\"float\", *rho_series.quantile(q_range))\n",
        "            # sigma = (dz/dt) / y\n",
        "            sigma_series = df[\"z\"].diff() / df[\"t\"].diff() / df[\"y\"]\n",
        "            param_dict[\"sigma\"] = (\"float\", *sigma_series.quantile(q_range))\n",
        "        return param_dict\n",
        "\n",
        "    @staticmethod\n",
        "    def calc_variables(df):\n",
        "        df[\"X\"] = df[\"Susceptible\"]\n",
        "        df[\"Y\"] = df[\"Infected\"]\n",
        "        df[\"Z\"] = df[\"Recovered\"]\n",
        "        df[\"W\"] = df[\"Deaths\"]\n",
        "        return df.loc[:, [\"T\", \"X\", \"Y\", \"Z\", \"W\"]]\n",
        "\n",
        "    @staticmethod\n",
        "    def calc_variables_reverse(df):\n",
        "        df[\"Susceptible\"] = df[\"X\"]\n",
        "        df[\"Infected\"] = df[\"Y\"]\n",
        "        df[\"Recovered\"] = df[\"Z\"]\n",
        "        df[\"Deaths\"] = df[\"W\"]\n",
        "        return df\n",
        "\n",
        "    def calc_r0(self):\n",
        "        try:\n",
        "            r0 = self.rho / (self.sigma + self.kappa)\n",
        "        except ZeroDivisionError:\n",
        "            return np.nan\n",
        "        return round(r0, 2)\n",
        "\n",
        "\n",
        "    def calc_days_dict(self, tau):\n",
        "        _dict = dict()\n",
        "        if self.kappa == 0:\n",
        "            _dict[\"1/alpha2 [day]\"] = 0\n",
        "        else:\n",
        "            _dict[\"1/alpha2 [day]\"] = int(tau / 24 / 60 / self.kappa)\n",
        "        _dict[\"1/beta [day]\"] = int(tau / 24 / 60 / self.rho)\n",
        "        if self.sigma == 0:\n",
        "            _dict[\"1/gamma [day]\"] = 0\n",
        "        else:\n",
        "            _dict[\"1/gamma [day]\"] = int(tau / 24 / 60 / self.sigma)\n",
        "        return _dict"
      ],
      "execution_count": null,
      "outputs": []
    },
    {
      "cell_type": "code",
      "metadata": {
        "id": "QILtA2NaOcHq",
        "colab_type": "code",
        "colab": {}
      },
      "source": [
        "class Predicter(object):\n",
        "    \"\"\"\n",
        "    Predict the future using models.\n",
        "    \"\"\"\n",
        "    def __init__(self, name, total_population, start_time, tau, initials, date_format=\"%d%b%Y\"):\n",
        "        \"\"\"\n",
        "        @name <str>: place name\n",
        "        @total_population <int>: total population\n",
        "        @start_time <datatime>: the start time\n",
        "        @tau <int>: tau value (time step)\n",
        "        @initials <list/tupple/np.array[float]>: initial values of the first model\n",
        "        @date_format <str>: date format to display in figures\n",
        "        \"\"\"\n",
        "        self.name = name\n",
        "        self.total_population = total_population\n",
        "        self.start_time = start_time\n",
        "        self.tau = tau\n",
        "        self.date_format = date_format\n",
        "        # Un-fixed\n",
        "        self.last_time = start_time\n",
        "        self.axvlines = list()\n",
        "        self.initials = initials\n",
        "        self.df = pd.DataFrame()\n",
        "        self.title_list = list()\n",
        "        self.reverse_f = lambda x: x\n",
        "\n",
        "    def add(self, model, end_day_n=None, count_from_last=False, vline=True, **param_dict):\n",
        "        \"\"\"\n",
        "        @model <ModelBase>: the epidemic model\n",
        "        @end_day_n <int/None>: day number of the end date (0, 1, 2,...), or None (now)\n",
        "            - if @count_from_last <bool> is True, start point will be the last date registered to Predicter\n",
        "        @vline <bool>: if True, vertical line will be shown at the end date\n",
        "        @**param_dict <dict>: keyword arguments of the model\n",
        "        \"\"\"\n",
        "        # Validate day number, and calculate step number\n",
        "        if end_day_n is None:\n",
        "            end_time = datetime.now()\n",
        "        else:\n",
        "            if count_from_last:\n",
        "                end_time = self.last_time + timedelta(days=end_day_n)\n",
        "            else:\n",
        "                end_time = self.start_time + timedelta(days=end_day_n)\n",
        "        if end_time <= self.last_time:\n",
        "            raise Exception(f\"Model on {end_time.strftime(self.date_format)} has been registered!\")\n",
        "        step_n = int((end_time - self.last_time).total_seconds() / 60 / self.tau)\n",
        "        self.last_time = end_time\n",
        "        # Perform simulation\n",
        "        new_df = simulation(model, self.initials, step_n=step_n, **param_dict)\n",
        "        new_df[\"t\"] = new_df[\"t\"] + len(self.df)\n",
        "        self.df = pd.concat([self.df, new_df], axis=0).fillna(0)\n",
        "        self.initials = new_df.set_index(\"t\").iloc[-1, :]\n",
        "        # For title\n",
        "        if vline:\n",
        "            self.axvlines.append(end_time)\n",
        "            r0 = model(**param_dict).calc_r0()\n",
        "            self.title_list.append(\n",
        "                #f\"{model.NAME}({r0}, -{end_time.strftime(self.date_format)})\"\n",
        "                f\"R0:{r0}, -{end_time.strftime(self.date_format)}\"\n",
        "            )\n",
        "        # Update reverse function (X, Y,.. to Susceptible, Infected,...)\n",
        "        self.reverse_f = model.calc_variables_reverse\n",
        "        return self\n",
        "\n",
        "    def restore_df(self):\n",
        "        \"\"\"\n",
        "        Return the dimentional simulated data.\n",
        "        @return <pd.DataFrame>\n",
        "        \"\"\"\n",
        "        df = self.df.copy()\n",
        "        df[\"Time\"] = self.start_time + df[\"t\"].apply(lambda x: timedelta(minutes=x * self.tau))\n",
        "        df = df.drop(\"t\", axis=1).set_index(\"Time\") * self.total_population\n",
        "        df = df.astype(np.int64)\n",
        "        upper_cols = [n.upper() for n in df.columns]\n",
        "        df.columns = upper_cols\n",
        "        df = self.reverse_f(df).drop(upper_cols, axis=1)\n",
        "        return df\n",
        "\n",
        "    def restore_graph(self, drop_cols=None, **kwargs):\n",
        "        \"\"\"\n",
        "        Show the dimentional simulate data as a figure.\n",
        "        @drop_cols <list[str]>: the columns not to be shown\n",
        "        @kwargs: keyword arguments of line_plot() function\n",
        "        \"\"\"\n",
        "        df = self.restore_df()\n",
        "        if drop_cols is not None:\n",
        "            df = df.drop(drop_cols, axis=1)\n",
        "        axvlines = [datetime.now(), *self.axvlines] if len(self.axvlines) == 1 else self.axvlines[:]\n",
        "        line_plot(\n",
        "            df,\n",
        "            #title=f\"{self.name}: {', '.join(self.title_list)}\",\n",
        "            title=f\"{', '.join(self.title_list)}\",\n",
        "            v=axvlines[:-1],\n",
        "            h=self.total_population,\n",
        "            **kwargs\n",
        "        )"
      ],
      "execution_count": null,
      "outputs": []
    },
    {
      "cell_type": "code",
      "metadata": {
        "id": "71XcFgROOjVs",
        "colab_type": "code",
        "colab": {}
      },
      "source": [
        "%%time\n",
        "\n",
        "it_start = '01May2020'\n",
        "pop = 1380004384\n",
        "\n",
        "it_sird_estimator = Estimator(\n",
        "    SIRD, india, pop, name=\"India\",\n",
        "    start_date=it_start\n",
        ")\n",
        "it_sird_dict = it_sird_estimator.run()"
      ],
      "execution_count": null,
      "outputs": []
    },
    {
      "cell_type": "code",
      "metadata": {
        "id": "8RoAcghYPM01",
        "colab_type": "code",
        "colab": {
          "base_uri": "https://localhost:8080/",
          "height": 873
        },
        "outputId": "18c2b11c-82ad-4bd7-bc28-a713a8aa2692"
      },
      "source": [
        "it_sird_estimator.compare_graph()"
      ],
      "execution_count": null,
      "outputs": [
        {
          "output_type": "display_data",
          "data": {
            "image/png": "[encoded data removed]",
            "text/plain": [
              "<Figure size 648x864 with 4 Axes>"
            ]
          },
          "metadata": {
            "tags": [],
            "needs_background": "light"
          }
        }
      ]
    },
    {
      "cell_type": "code",
      "metadata": {
        "id": "Ow3AqkFHeANP",
        "colab_type": "code",
        "colab": {
          "base_uri": "https://localhost:8080/",
          "height": 79
        },
        "outputId": "95f7b57b-6a61-492d-d282-96134de297fd"
      },
      "source": [
        "pd.DataFrame.from_dict({\"SIRD\": it_sird_dict}, orient=\"index\").fillna(\"-\")"
      ],
      "execution_count": null,
      "outputs": [
        {
          "output_type": "execute_result",
          "data": {
            "text/html": [
              "<div>\n",
              "<style scoped>\n",
              "    .dataframe tbody tr th:only-of-type {\n",
              "        vertical-align: middle;\n",
              "    }\n",
              "\n",
              "    .dataframe tbody tr th {\n",
              "        vertical-align: top;\n",
              "    }\n",
              "\n",
              "    .dataframe thead th {\n",
              "        text-align: right;\n",
              "    }\n",
              "</style>\n",
              "<table border=\"1\" class=\"dataframe\">\n",
              "  <thead>\n",
              "    <tr style=\"text-align: right;\">\n",
              "      <th></th>\n",
              "      <th>tau</th>\n",
              "      <th>kappa</th>\n",
              "      <th>rho</th>\n",
              "      <th>sigma</th>\n",
              "      <th>R0</th>\n",
              "      <th>score</th>\n",
              "      <th>1/alpha2 [day]</th>\n",
              "      <th>1/beta [day]</th>\n",
              "      <th>1/gamma [day]</th>\n",
              "    </tr>\n",
              "  </thead>\n",
              "  <tbody>\n",
              "    <tr>\n",
              "      <th>SIRD</th>\n",
              "      <td>219</td>\n",
              "      <td>0.000381</td>\n",
              "      <td>0.014357</td>\n",
              "      <td>0.008122</td>\n",
              "      <td>1.69</td>\n",
              "      <td>0.000018</td>\n",
              "      <td>399</td>\n",
              "      <td>10</td>\n",
              "      <td>18</td>\n",
              "    </tr>\n",
              "  </tbody>\n",
              "</table>\n",
              "</div>"
            ],
            "text/plain": [
              "      tau     kappa       rho  ...  1/alpha2 [day]  1/beta [day]  1/gamma [day]\n",
              "SIRD  219  0.000381  0.014357  ...             399            10             18\n",
              "\n",
              "[1 rows x 9 columns]"
            ]
          },
          "metadata": {
            "tags": []
          },
          "execution_count": 34
        }
      ]
    },
    {
      "cell_type": "code",
      "metadata": {
        "id": "phvOPqu5eGvG",
        "colab_type": "code",
        "colab": {}
      },
      "source": [
        "first_model, info_dict, param_dict = it_sird_estimator.info()"
      ],
      "execution_count": null,
      "outputs": []
    },
    {
      "cell_type": "code",
      "metadata": {
        "id": "ALoBiEHkeWRX",
        "colab_type": "code",
        "colab": {
          "base_uri": "https://localhost:8080/",
          "height": 292
        },
        "outputId": "be2c5c7c-e4ba-40d1-f2e2-f7e11163fda6"
      },
      "source": [
        "predicter = Predicter(**info_dict)\n",
        "predicter.add(first_model, end_day_n=None, count_from_last=False, vline=False, **param_dict)\n",
        "predicter.add(first_model, end_day_n=300, count_from_last=True,vline=False, **param_dict)\n",
        "predicter.restore_graph(drop_cols=None)"
      ],
      "execution_count": null,
      "outputs": [
        {
          "output_type": "display_data",
          "data": {
            "image/png": "[encoded data removed]",
            "text/plain": [
              "<Figure size 432x288 with 1 Axes>"
            ]
          },
          "metadata": {
            "tags": [],
            "needs_background": "light"
          }
        }
      ]
    },
    {
      "cell_type": "markdown",
      "metadata": {
        "id": "2tCY6rMDJxtD",
        "colab_type": "text"
      },
      "source": [
        "Here is a screenshot of an article from The KEN:\n",
        "\n",
        "![alt text](https://drive.google.com/uc?export=view&id=1-cmgTqXLWD28n-cc5zS2Th7J_F5GePZ6)\n",
        "\n",
        "My early model predicted this that obviously has expired: \n",
        "![alt text](https://drive.google.com/uc?export=view&id=18qFAayNt7d44k7etFP7izfzNu___849E)\n",
        "\n",
        "![alt text](https://drive.google.com/uc?export=view&id=17IJaWUXbVM2Kabsax5Hui-vuBMdDpKfz)"
      ]
    },
    {
      "cell_type": "markdown",
      "metadata": {
        "id": "HoWsEpIqSKkW",
        "colab_type": "text"
      },
      "source": [
        "![alt text](https://drive.google.com/uc?export=view&id=1mx3R8ZCRl8rNVsqYwlUP_3HDZQW1V2yL)"
      ]
    },
    {
      "cell_type": "markdown",
      "metadata": {
        "id": "UQGVeROCDJ4u",
        "colab_type": "text"
      },
      "source": [
        "Thanks to these blogs and kernels:\n",
        "1. https://www.kaggle.com/lisphilar/covid-19-data-with-sir-model/notebook\n",
        "2. https://towardsdatascience.com/infectious-disease-modelling-beyond-the-basic-sir-model-216369c584c4\n",
        "3. https://the-ken.com/story/indias-next-top-covid-model/"
      ]
    },
    {
      "cell_type": "code",
      "metadata": {
        "id": "2l404Gd4DmZL",
        "colab_type": "code",
        "colab": {}
      },
      "source": [
        ""
      ],
      "execution_count": null,
      "outputs": []
    }
  ]
}